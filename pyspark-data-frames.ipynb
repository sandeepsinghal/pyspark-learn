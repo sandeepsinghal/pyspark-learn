{
 "cells": [
  {
   "cell_type": "code",
   "execution_count": 1,
   "id": "49b0ea55-77b7-42d4-9aa1-2c03a48783e5",
   "metadata": {},
   "outputs": [],
   "source": [
    "from pyspark.sql import SparkSession"
   ]
  },
  {
   "cell_type": "code",
   "execution_count": 2,
   "id": "b39a8ab8-e694-4225-8fd2-d6d5d139b85d",
   "metadata": {},
   "outputs": [
    {
     "name": "stderr",
     "output_type": "stream",
     "text": [
      "Setting default log level to \"WARN\".\n",
      "To adjust logging level use sc.setLogLevel(newLevel). For SparkR, use setLogLevel(newLevel).\n",
      "23/10/24 10:49:49 WARN NativeCodeLoader: Unable to load native-hadoop library for your platform... using builtin-java classes where applicable\n"
     ]
    }
   ],
   "source": [
    "spark = SparkSession.builder.appName('Dataframe').getOrCreate()"
   ]
  },
  {
   "cell_type": "code",
   "execution_count": 3,
   "id": "67e67dce-6182-4817-840b-fe3f4f5f9606",
   "metadata": {},
   "outputs": [
    {
     "data": {
      "text/html": [
       "\n",
       "            <div>\n",
       "                <p><b>SparkSession - in-memory</b></p>\n",
       "                \n",
       "        <div>\n",
       "            <p><b>SparkContext</b></p>\n",
       "\n",
       "            <p><a href=\"http://9.24.15.99:4040\">Spark UI</a></p>\n",
       "\n",
       "            <dl>\n",
       "              <dt>Version</dt>\n",
       "                <dd><code>v3.5.0</code></dd>\n",
       "              <dt>Master</dt>\n",
       "                <dd><code>local[*]</code></dd>\n",
       "              <dt>AppName</dt>\n",
       "                <dd><code>Dataframe</code></dd>\n",
       "            </dl>\n",
       "        </div>\n",
       "        \n",
       "            </div>\n",
       "        "
      ],
      "text/plain": [
       "<pyspark.sql.session.SparkSession at 0x1113c1ab0>"
      ]
     },
     "execution_count": 3,
     "metadata": {},
     "output_type": "execute_result"
    }
   ],
   "source": [
    "spark"
   ]
  },
  {
   "cell_type": "code",
   "execution_count": 4,
   "id": "7f3f31a5-a57a-4e66-92ac-c529e47f1c14",
   "metadata": {},
   "outputs": [
    {
     "name": "stderr",
     "output_type": "stream",
     "text": [
      "                                                                                \r"
     ]
    },
    {
     "name": "stdout",
     "output_type": "stream",
     "text": [
      "root\n",
      " |-- Id: integer (nullable = true)\n",
      " |-- SepalLengthCm: double (nullable = true)\n",
      " |-- SepalWidthCm: double (nullable = true)\n",
      " |-- PetalLengthCm: double (nullable = true)\n",
      " |-- PetalWidthCm: double (nullable = true)\n",
      " |-- Species: string (nullable = true)\n",
      "\n"
     ]
    }
   ],
   "source": [
    "# Another way of reading \n",
    "df_pyspark = spark.read.csv('data/Iris.csv',header=True, inferSchema=True)\n",
    "df_pyspark.printSchema()"
   ]
  },
  {
   "cell_type": "code",
   "execution_count": 5,
   "id": "8bbd0179-6c83-42a7-a3d4-d3e997e4b9da",
   "metadata": {},
   "outputs": [
    {
     "name": "stdout",
     "output_type": "stream",
     "text": [
      "+---+-------------+------------+-------------+------------+-----------+\n",
      "| Id|SepalLengthCm|SepalWidthCm|PetalLengthCm|PetalWidthCm|    Species|\n",
      "+---+-------------+------------+-------------+------------+-----------+\n",
      "|  1|          5.1|         3.5|          1.4|         0.2|Iris-setosa|\n",
      "|  2|          4.9|         3.0|          1.4|         0.2|Iris-setosa|\n",
      "|  3|          4.7|         3.2|          1.3|         0.2|Iris-setosa|\n",
      "|  4|          4.6|         3.1|          1.5|         0.2|Iris-setosa|\n",
      "|  5|          5.0|         3.6|          1.4|         0.2|Iris-setosa|\n",
      "|  6|          5.4|         3.9|          1.7|         0.4|Iris-setosa|\n",
      "|  7|          4.6|         3.4|          1.4|         0.3|Iris-setosa|\n",
      "|  8|          5.0|         3.4|          1.5|         0.2|Iris-setosa|\n",
      "|  9|          4.4|         2.9|          1.4|         0.2|Iris-setosa|\n",
      "| 10|          4.9|         3.1|          1.5|         0.1|Iris-setosa|\n",
      "| 11|          5.4|         3.7|          1.5|         0.2|Iris-setosa|\n",
      "| 12|          4.8|         3.4|          1.6|         0.2|Iris-setosa|\n",
      "| 13|          4.8|         3.0|          1.4|         0.1|Iris-setosa|\n",
      "| 14|          4.3|         3.0|          1.1|         0.1|Iris-setosa|\n",
      "| 15|          5.8|         4.0|          1.2|         0.2|Iris-setosa|\n",
      "| 16|          5.7|         4.4|          1.5|         0.4|Iris-setosa|\n",
      "| 17|          5.4|         3.9|          1.3|         0.4|Iris-setosa|\n",
      "| 18|          5.1|         3.5|          1.4|         0.3|Iris-setosa|\n",
      "| 19|          5.7|         3.8|          1.7|         0.3|Iris-setosa|\n",
      "| 20|          5.1|         3.8|          1.5|         0.3|Iris-setosa|\n",
      "+---+-------------+------------+-------------+------------+-----------+\n",
      "only showing top 20 rows\n",
      "\n"
     ]
    }
   ],
   "source": [
    "df_pyspark.show()"
   ]
  },
  {
   "cell_type": "code",
   "execution_count": 8,
   "id": "0c0dde2e",
   "metadata": {},
   "outputs": [
    {
     "name": "stdout",
     "output_type": "stream",
     "text": [
      "(150, 6)\n"
     ]
    }
   ],
   "source": [
    "# Show the number of rows and columns\n",
    "print((df_pyspark.count(), len(df_pyspark.columns)))"
   ]
  },
  {
   "cell_type": "code",
   "execution_count": 10,
   "id": "bd37b615",
   "metadata": {},
   "outputs": [
    {
     "name": "stdout",
     "output_type": "stream",
     "text": [
      "+-------------+------------+\n",
      "|SepalLengthCm|SepalWidthCm|\n",
      "+-------------+------------+\n",
      "|          5.1|         3.5|\n",
      "|          4.9|         3.0|\n",
      "|          4.7|         3.2|\n",
      "|          4.6|         3.1|\n",
      "|          5.0|         3.6|\n",
      "|          5.4|         3.9|\n",
      "|          4.6|         3.4|\n",
      "|          5.0|         3.4|\n",
      "|          4.4|         2.9|\n",
      "|          4.9|         3.1|\n",
      "|          5.4|         3.7|\n",
      "|          4.8|         3.4|\n",
      "|          4.8|         3.0|\n",
      "|          4.3|         3.0|\n",
      "|          5.8|         4.0|\n",
      "|          5.7|         4.4|\n",
      "|          5.4|         3.9|\n",
      "|          5.1|         3.5|\n",
      "|          5.7|         3.8|\n",
      "|          5.1|         3.8|\n",
      "+-------------+------------+\n",
      "only showing top 20 rows\n",
      "\n"
     ]
    }
   ],
   "source": [
    "# Select first two columns\n",
    "df_p = df_pyspark.select(['SepalLengthCm','SepalWidthCm']).show()"
   ]
  },
  {
   "cell_type": "code",
   "execution_count": 11,
   "id": "57326ebc",
   "metadata": {},
   "outputs": [
    {
     "data": {
      "text/plain": [
       "[('Id', 'int'),\n",
       " ('SepalLengthCm', 'double'),\n",
       " ('SepalWidthCm', 'double'),\n",
       " ('PetalLengthCm', 'double'),\n",
       " ('PetalWidthCm', 'double'),\n",
       " ('Species', 'string')]"
      ]
     },
     "execution_count": 11,
     "metadata": {},
     "output_type": "execute_result"
    }
   ],
   "source": [
    "# print the type of all columns\n",
    "df_pyspark.dtypes"
   ]
  },
  {
   "cell_type": "code",
   "execution_count": 12,
   "id": "541c83bf",
   "metadata": {},
   "outputs": [
    {
     "name": "stderr",
     "output_type": "stream",
     "text": [
      "23/10/24 10:53:49 WARN SparkStringUtils: Truncated the string representation of a plan since it was too large. This behavior can be adjusted by setting 'spark.sql.debug.maxToStringFields'.\n",
      "[Stage 14:>                                                         (0 + 1) / 1]\r"
     ]
    },
    {
     "name": "stdout",
     "output_type": "stream",
     "text": [
      "+-------+------------------+------------------+-------------------+------------------+------------------+--------------+\n",
      "|summary|                Id|     SepalLengthCm|       SepalWidthCm|     PetalLengthCm|      PetalWidthCm|       Species|\n",
      "+-------+------------------+------------------+-------------------+------------------+------------------+--------------+\n",
      "|  count|               150|               150|                150|               150|               150|           150|\n",
      "|   mean|              75.5| 5.843333333333335| 3.0540000000000007|3.7586666666666693|1.1986666666666672|          NULL|\n",
      "| stddev|43.445367992456916|0.8280661279778637|0.43359431136217375| 1.764420419952262|0.7631607417008414|          NULL|\n",
      "|    min|                 1|               4.3|                2.0|               1.0|               0.1|   Iris-setosa|\n",
      "|    max|               150|               7.9|                4.4|               6.9|               2.5|Iris-virginica|\n",
      "+-------+------------------+------------------+-------------------+------------------+------------------+--------------+\n",
      "\n"
     ]
    },
    {
     "name": "stderr",
     "output_type": "stream",
     "text": [
      "                                                                                \r"
     ]
    }
   ],
   "source": [
    "df_pyspark.describe().show()"
   ]
  },
  {
   "cell_type": "code",
   "execution_count": 13,
   "id": "d46c5267",
   "metadata": {},
   "outputs": [],
   "source": [
    "# add a column by adding SepalLength and width \n",
    "df_pyspark = df_pyspark.withColumn('SepalAddition', df_pyspark['SepalLengthCm']+df_pyspark['SepalWidthCm'])"
   ]
  },
  {
   "cell_type": "code",
   "execution_count": 14,
   "id": "579962fa",
   "metadata": {},
   "outputs": [
    {
     "name": "stdout",
     "output_type": "stream",
     "text": [
      "+---+-------------+------------+-------------+------------+-----------+------------------+\n",
      "| Id|SepalLengthCm|SepalWidthCm|PetalLengthCm|PetalWidthCm|    Species|     SepalAddition|\n",
      "+---+-------------+------------+-------------+------------+-----------+------------------+\n",
      "|  1|          5.1|         3.5|          1.4|         0.2|Iris-setosa|               8.6|\n",
      "|  2|          4.9|         3.0|          1.4|         0.2|Iris-setosa|               7.9|\n",
      "|  3|          4.7|         3.2|          1.3|         0.2|Iris-setosa|               7.9|\n",
      "|  4|          4.6|         3.1|          1.5|         0.2|Iris-setosa| 7.699999999999999|\n",
      "|  5|          5.0|         3.6|          1.4|         0.2|Iris-setosa|               8.6|\n",
      "|  6|          5.4|         3.9|          1.7|         0.4|Iris-setosa|               9.3|\n",
      "|  7|          4.6|         3.4|          1.4|         0.3|Iris-setosa|               8.0|\n",
      "|  8|          5.0|         3.4|          1.5|         0.2|Iris-setosa|               8.4|\n",
      "|  9|          4.4|         2.9|          1.4|         0.2|Iris-setosa| 7.300000000000001|\n",
      "| 10|          4.9|         3.1|          1.5|         0.1|Iris-setosa|               8.0|\n",
      "| 11|          5.4|         3.7|          1.5|         0.2|Iris-setosa| 9.100000000000001|\n",
      "| 12|          4.8|         3.4|          1.6|         0.2|Iris-setosa|               8.2|\n",
      "| 13|          4.8|         3.0|          1.4|         0.1|Iris-setosa|               7.8|\n",
      "| 14|          4.3|         3.0|          1.1|         0.1|Iris-setosa|               7.3|\n",
      "| 15|          5.8|         4.0|          1.2|         0.2|Iris-setosa|               9.8|\n",
      "| 16|          5.7|         4.4|          1.5|         0.4|Iris-setosa|10.100000000000001|\n",
      "| 17|          5.4|         3.9|          1.3|         0.4|Iris-setosa|               9.3|\n",
      "| 18|          5.1|         3.5|          1.4|         0.3|Iris-setosa|               8.6|\n",
      "| 19|          5.7|         3.8|          1.7|         0.3|Iris-setosa|               9.5|\n",
      "| 20|          5.1|         3.8|          1.5|         0.3|Iris-setosa| 8.899999999999999|\n",
      "+---+-------------+------------+-------------+------------+-----------+------------------+\n",
      "only showing top 20 rows\n",
      "\n"
     ]
    }
   ],
   "source": [
    "df_pyspark.show()"
   ]
  },
  {
   "cell_type": "code",
   "execution_count": 17,
   "id": "887913c4",
   "metadata": {},
   "outputs": [
    {
     "name": "stdout",
     "output_type": "stream",
     "text": [
      "+---+-------------+------------+-------------+------------+-----------+-------------+\n",
      "| Id|SepalLengthCm|SepalWidthCm|PetalLengthCm|PetalWidthCm|    Species|SepalAddition|\n",
      "+---+-------------+------------+-------------+------------+-----------+-------------+\n",
      "|  1|          5.1|         3.5|          1.4|         0.2|Iris-setosa|          8.6|\n",
      "|  2|          4.9|         3.0|          1.4|         0.2|Iris-setosa|          7.9|\n",
      "|  3|          4.7|         3.2|          1.3|         0.2|Iris-setosa|          7.9|\n",
      "|  4|          4.6|         3.1|          1.5|         0.2|Iris-setosa|          7.7|\n",
      "|  5|          5.0|         3.6|          1.4|         0.2|Iris-setosa|          8.6|\n",
      "|  6|          5.4|         3.9|          1.7|         0.4|Iris-setosa|          9.3|\n",
      "|  7|          4.6|         3.4|          1.4|         0.3|Iris-setosa|          8.0|\n",
      "|  8|          5.0|         3.4|          1.5|         0.2|Iris-setosa|          8.4|\n",
      "|  9|          4.4|         2.9|          1.4|         0.2|Iris-setosa|          7.3|\n",
      "| 10|          4.9|         3.1|          1.5|         0.1|Iris-setosa|          8.0|\n",
      "| 11|          5.4|         3.7|          1.5|         0.2|Iris-setosa|          9.1|\n",
      "| 12|          4.8|         3.4|          1.6|         0.2|Iris-setosa|          8.2|\n",
      "| 13|          4.8|         3.0|          1.4|         0.1|Iris-setosa|          7.8|\n",
      "| 14|          4.3|         3.0|          1.1|         0.1|Iris-setosa|          7.3|\n",
      "| 15|          5.8|         4.0|          1.2|         0.2|Iris-setosa|          9.8|\n",
      "| 16|          5.7|         4.4|          1.5|         0.4|Iris-setosa|         10.1|\n",
      "| 17|          5.4|         3.9|          1.3|         0.4|Iris-setosa|          9.3|\n",
      "| 18|          5.1|         3.5|          1.4|         0.3|Iris-setosa|          8.6|\n",
      "| 19|          5.7|         3.8|          1.7|         0.3|Iris-setosa|          9.5|\n",
      "| 20|          5.1|         3.8|          1.5|         0.3|Iris-setosa|          8.9|\n",
      "+---+-------------+------------+-------------+------------+-----------+-------------+\n",
      "only showing top 20 rows\n",
      "\n"
     ]
    }
   ],
   "source": [
    "# round the column SepalAddition to 2 decimal places\n",
    "from pyspark.sql.functions import round\n",
    "\n",
    "df_pyspark = df_pyspark.withColumn('SepalAddition',round(df_pyspark['SepalAddition'],3))\n",
    "df_pyspark.show()"
   ]
  },
  {
   "cell_type": "code",
   "execution_count": 18,
   "id": "da3a8856",
   "metadata": {},
   "outputs": [
    {
     "name": "stdout",
     "output_type": "stream",
     "text": [
      "+---+-------------+------------+------------+-----------+-------------+\n",
      "| Id|SepalLengthCm|SepalWidthCm|PetalWidthCm|    Species|SepalAddition|\n",
      "+---+-------------+------------+------------+-----------+-------------+\n",
      "|  1|          5.1|         3.5|         0.2|Iris-setosa|          8.6|\n",
      "|  2|          4.9|         3.0|         0.2|Iris-setosa|          7.9|\n",
      "|  3|          4.7|         3.2|         0.2|Iris-setosa|          7.9|\n",
      "|  4|          4.6|         3.1|         0.2|Iris-setosa|          7.7|\n",
      "|  5|          5.0|         3.6|         0.2|Iris-setosa|          8.6|\n",
      "|  6|          5.4|         3.9|         0.4|Iris-setosa|          9.3|\n",
      "|  7|          4.6|         3.4|         0.3|Iris-setosa|          8.0|\n",
      "|  8|          5.0|         3.4|         0.2|Iris-setosa|          8.4|\n",
      "|  9|          4.4|         2.9|         0.2|Iris-setosa|          7.3|\n",
      "| 10|          4.9|         3.1|         0.1|Iris-setosa|          8.0|\n",
      "| 11|          5.4|         3.7|         0.2|Iris-setosa|          9.1|\n",
      "| 12|          4.8|         3.4|         0.2|Iris-setosa|          8.2|\n",
      "| 13|          4.8|         3.0|         0.1|Iris-setosa|          7.8|\n",
      "| 14|          4.3|         3.0|         0.1|Iris-setosa|          7.3|\n",
      "| 15|          5.8|         4.0|         0.2|Iris-setosa|          9.8|\n",
      "| 16|          5.7|         4.4|         0.4|Iris-setosa|         10.1|\n",
      "| 17|          5.4|         3.9|         0.4|Iris-setosa|          9.3|\n",
      "| 18|          5.1|         3.5|         0.3|Iris-setosa|          8.6|\n",
      "| 19|          5.7|         3.8|         0.3|Iris-setosa|          9.5|\n",
      "| 20|          5.1|         3.8|         0.3|Iris-setosa|          8.9|\n",
      "+---+-------------+------------+------------+-----------+-------------+\n",
      "only showing top 20 rows\n",
      "\n"
     ]
    }
   ],
   "source": [
    "# Drop a column called PetalLengthCm\n",
    "df_pyspark.drop('PetalLengthCm').show()"
   ]
  },
  {
   "cell_type": "code",
   "execution_count": 19,
   "id": "c7fda020",
   "metadata": {},
   "outputs": [
    {
     "name": "stdout",
     "output_type": "stream",
     "text": [
      "+---+-----------+------------+-------------+------------+-----------+-------------+\n",
      "| Id|SepalLength|SepalWidthCm|PetalLengthCm|PetalWidthCm|    Species|SepalAddition|\n",
      "+---+-----------+------------+-------------+------------+-----------+-------------+\n",
      "|  1|        5.1|         3.5|          1.4|         0.2|Iris-setosa|          8.6|\n",
      "|  2|        4.9|         3.0|          1.4|         0.2|Iris-setosa|          7.9|\n",
      "|  3|        4.7|         3.2|          1.3|         0.2|Iris-setosa|          7.9|\n",
      "|  4|        4.6|         3.1|          1.5|         0.2|Iris-setosa|          7.7|\n",
      "|  5|        5.0|         3.6|          1.4|         0.2|Iris-setosa|          8.6|\n",
      "|  6|        5.4|         3.9|          1.7|         0.4|Iris-setosa|          9.3|\n",
      "|  7|        4.6|         3.4|          1.4|         0.3|Iris-setosa|          8.0|\n",
      "|  8|        5.0|         3.4|          1.5|         0.2|Iris-setosa|          8.4|\n",
      "|  9|        4.4|         2.9|          1.4|         0.2|Iris-setosa|          7.3|\n",
      "| 10|        4.9|         3.1|          1.5|         0.1|Iris-setosa|          8.0|\n",
      "| 11|        5.4|         3.7|          1.5|         0.2|Iris-setosa|          9.1|\n",
      "| 12|        4.8|         3.4|          1.6|         0.2|Iris-setosa|          8.2|\n",
      "| 13|        4.8|         3.0|          1.4|         0.1|Iris-setosa|          7.8|\n",
      "| 14|        4.3|         3.0|          1.1|         0.1|Iris-setosa|          7.3|\n",
      "| 15|        5.8|         4.0|          1.2|         0.2|Iris-setosa|          9.8|\n",
      "| 16|        5.7|         4.4|          1.5|         0.4|Iris-setosa|         10.1|\n",
      "| 17|        5.4|         3.9|          1.3|         0.4|Iris-setosa|          9.3|\n",
      "| 18|        5.1|         3.5|          1.4|         0.3|Iris-setosa|          8.6|\n",
      "| 19|        5.7|         3.8|          1.7|         0.3|Iris-setosa|          9.5|\n",
      "| 20|        5.1|         3.8|          1.5|         0.3|Iris-setosa|          8.9|\n",
      "+---+-----------+------------+-------------+------------+-----------+-------------+\n",
      "only showing top 20 rows\n",
      "\n"
     ]
    }
   ],
   "source": [
    "# Rename column SepalLengthCm to SepalLength\n",
    "df_pyspark.withColumnRenamed('SepalLengthCm','SepalLength').show()"
   ]
  },
  {
   "cell_type": "code",
   "execution_count": 21,
   "id": "23aaa6b4",
   "metadata": {},
   "outputs": [
    {
     "name": "stdout",
     "output_type": "stream",
     "text": [
      "+---+-------------+------------+-------------+------------+-----------+-------------+\n",
      "| Id|SepalLengthCm|SepalWidthCm|PetalLengthCm|PetalWidthCm|    Species|SepalAddition|\n",
      "+---+-------------+------------+-------------+------------+-----------+-------------+\n",
      "|  1|          5.1|         3.5|          1.4|         0.2|Iris-setosa|          8.6|\n",
      "|  2|          4.9|         3.0|          1.4|         0.2|Iris-setosa|          7.9|\n",
      "|  3|          4.7|         3.2|          1.3|         0.2|Iris-setosa|          7.9|\n",
      "|  4|          4.6|         3.1|          1.5|         0.2|Iris-setosa|          7.7|\n",
      "|  5|          5.0|         3.6|          1.4|         0.2|Iris-setosa|          8.6|\n",
      "|  6|          5.4|         3.9|          1.7|         0.4|Iris-setosa|          9.3|\n",
      "|  7|          4.6|         3.4|          1.4|         0.3|Iris-setosa|          8.0|\n",
      "|  8|          5.0|         3.4|          1.5|         0.2|Iris-setosa|          8.4|\n",
      "|  9|          4.4|         2.9|          1.4|         0.2|Iris-setosa|          7.3|\n",
      "| 10|          4.9|         3.1|          1.5|         0.1|Iris-setosa|          8.0|\n",
      "| 11|          5.4|         3.7|          1.5|         0.2|Iris-setosa|          9.1|\n",
      "| 12|          4.8|         3.4|          1.6|         0.2|Iris-setosa|          8.2|\n",
      "| 13|          4.8|         3.0|          1.4|         0.1|Iris-setosa|          7.8|\n",
      "| 14|          4.3|         3.0|          1.1|         0.1|Iris-setosa|          7.3|\n",
      "| 15|          5.8|         4.0|          1.2|         0.2|Iris-setosa|          9.8|\n",
      "| 16|          5.7|         4.4|          1.5|         0.4|Iris-setosa|         10.1|\n",
      "| 17|          5.4|         3.9|          1.3|         0.4|Iris-setosa|          9.3|\n",
      "| 18|          5.1|         3.5|          1.4|         0.3|Iris-setosa|          8.6|\n",
      "| 19|          5.7|         3.8|          1.7|         0.3|Iris-setosa|          9.5|\n",
      "| 20|          5.1|         3.8|          1.5|         0.3|Iris-setosa|          8.9|\n",
      "+---+-------------+------------+-------------+------------+-----------+-------------+\n",
      "only showing top 20 rows\n",
      "\n"
     ]
    }
   ],
   "source": [
    "# Drop na values\n",
    "df_pyspark.na.drop().show()"
   ]
  },
  {
   "cell_type": "code",
   "execution_count": 22,
   "id": "d7c378f7",
   "metadata": {},
   "outputs": [
    {
     "name": "stdout",
     "output_type": "stream",
     "text": [
      "+---+-------------+------------+-------------+------------+-----------+-------------+\n",
      "| Id|SepalLengthCm|SepalWidthCm|PetalLengthCm|PetalWidthCm|    Species|SepalAddition|\n",
      "+---+-------------+------------+-------------+------------+-----------+-------------+\n",
      "|  1|          5.1|         3.5|          1.4|         0.2|Iris-setosa|          8.6|\n",
      "|  2|          4.9|         3.0|          1.4|         0.2|Iris-setosa|          7.9|\n",
      "|  3|          4.7|         3.2|          1.3|         0.2|Iris-setosa|          7.9|\n",
      "|  4|          4.6|         3.1|          1.5|         0.2|Iris-setosa|          7.7|\n",
      "|  5|          5.0|         3.6|          1.4|         0.2|Iris-setosa|          8.6|\n",
      "|  6|          5.4|         3.9|          1.7|         0.4|Iris-setosa|          9.3|\n",
      "|  7|          4.6|         3.4|          1.4|         0.3|Iris-setosa|          8.0|\n",
      "|  8|          5.0|         3.4|          1.5|         0.2|Iris-setosa|          8.4|\n",
      "|  9|          4.4|         2.9|          1.4|         0.2|Iris-setosa|          7.3|\n",
      "| 10|          4.9|         3.1|          1.5|         0.1|Iris-setosa|          8.0|\n",
      "| 11|          5.4|         3.7|          1.5|         0.2|Iris-setosa|          9.1|\n",
      "| 12|          4.8|         3.4|          1.6|         0.2|Iris-setosa|          8.2|\n",
      "| 13|          4.8|         3.0|          1.4|         0.1|Iris-setosa|          7.8|\n",
      "| 14|          4.3|         3.0|          1.1|         0.1|Iris-setosa|          7.3|\n",
      "| 15|          5.8|         4.0|          1.2|         0.2|Iris-setosa|          9.8|\n",
      "| 16|          5.7|         4.4|          1.5|         0.4|Iris-setosa|         10.1|\n",
      "| 17|          5.4|         3.9|          1.3|         0.4|Iris-setosa|          9.3|\n",
      "| 18|          5.1|         3.5|          1.4|         0.3|Iris-setosa|          8.6|\n",
      "| 19|          5.7|         3.8|          1.7|         0.3|Iris-setosa|          9.5|\n",
      "| 20|          5.1|         3.8|          1.5|         0.3|Iris-setosa|          8.9|\n",
      "+---+-------------+------------+-------------+------------+-----------+-------------+\n",
      "only showing top 20 rows\n",
      "\n"
     ]
    }
   ],
   "source": [
    "# drop all values of sepal width less than 3\n",
    "df_pyspark.na.drop(subset=['SepalWidthCm']).show()"
   ]
  },
  {
   "cell_type": "code",
   "execution_count": 23,
   "id": "f619e463",
   "metadata": {},
   "outputs": [
    {
     "name": "stdout",
     "output_type": "stream",
     "text": [
      "+---+-------------+------------+-------------+------------+-----------+-------------+\n",
      "| Id|SepalLengthCm|SepalWidthCm|PetalLengthCm|PetalWidthCm|    Species|SepalAddition|\n",
      "+---+-------------+------------+-------------+------------+-----------+-------------+\n",
      "|  1|          5.1|         3.5|          1.4|         0.2|Iris-setosa|          8.6|\n",
      "|  2|          4.9|         3.0|          1.4|         0.2|Iris-setosa|          7.9|\n",
      "|  3|          4.7|         3.2|          1.3|         0.2|Iris-setosa|          7.9|\n",
      "|  4|          4.6|         3.1|          1.5|         0.2|Iris-setosa|          7.7|\n",
      "|  5|          5.0|         3.6|          1.4|         0.2|Iris-setosa|          8.6|\n",
      "|  6|          5.4|         3.9|          1.7|         0.4|Iris-setosa|          9.3|\n",
      "|  7|          4.6|         3.4|          1.4|         0.3|Iris-setosa|          8.0|\n",
      "|  8|          5.0|         3.4|          1.5|         0.2|Iris-setosa|          8.4|\n",
      "|  9|          4.4|         2.9|          1.4|         0.2|Iris-setosa|          7.3|\n",
      "| 10|          4.9|         3.1|          1.5|         0.1|Iris-setosa|          8.0|\n",
      "| 11|          5.4|         3.7|          1.5|         0.2|Iris-setosa|          9.1|\n",
      "| 12|          4.8|         3.4|          1.6|         0.2|Iris-setosa|          8.2|\n",
      "| 13|          4.8|         3.0|          1.4|         0.1|Iris-setosa|          7.8|\n",
      "| 14|          4.3|         3.0|          1.1|         0.1|Iris-setosa|          7.3|\n",
      "| 15|          5.8|         4.0|          1.2|         0.2|Iris-setosa|          9.8|\n",
      "| 16|          5.7|         4.4|          1.5|         0.4|Iris-setosa|         10.1|\n",
      "| 17|          5.4|         3.9|          1.3|         0.4|Iris-setosa|          9.3|\n",
      "| 18|          5.1|         3.5|          1.4|         0.3|Iris-setosa|          8.6|\n",
      "| 19|          5.7|         3.8|          1.7|         0.3|Iris-setosa|          9.5|\n",
      "| 20|          5.1|         3.8|          1.5|         0.3|Iris-setosa|          8.9|\n",
      "+---+-------------+------------+-------------+------------+-----------+-------------+\n",
      "only showing top 20 rows\n",
      "\n"
     ]
    }
   ],
   "source": [
    "# show only those rows where species is Iris-setosa\n",
    "df_pyspark.filter(df_pyspark['Species']=='Iris-setosa').show()"
   ]
  },
  {
   "cell_type": "code",
   "execution_count": 25,
   "id": "ff58917f",
   "metadata": {},
   "outputs": [
    {
     "data": {
      "text/plain": [
       "50"
      ]
     },
     "execution_count": 25,
     "metadata": {},
     "output_type": "execute_result"
    }
   ],
   "source": [
    "# count the number of rows where species is Iris-setosa\n",
    "df_pyspark.filter(df_pyspark['Species']=='Iris-setosa').count()\n"
   ]
  },
  {
   "cell_type": "code",
   "execution_count": null,
   "id": "a51228aa",
   "metadata": {},
   "outputs": [],
   "source": []
  }
 ],
 "metadata": {
  "kernelspec": {
   "display_name": "Python 3 (ipykernel)",
   "language": "python",
   "name": "python3"
  },
  "language_info": {
   "codemirror_mode": {
    "name": "ipython",
    "version": 3
   },
   "file_extension": ".py",
   "mimetype": "text/x-python",
   "name": "python",
   "nbconvert_exporter": "python",
   "pygments_lexer": "ipython3",
   "version": "3.10.13"
  }
 },
 "nbformat": 4,
 "nbformat_minor": 5
}
